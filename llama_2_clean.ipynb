{
 "cells": [
  {
   "cell_type": "markdown",
   "metadata": {},
   "source": [
    "##### Import packages and LLM configurations"
   ]
  },
  {
   "cell_type": "code",
   "execution_count": null,
   "metadata": {},
   "outputs": [],
   "source": [
    "import pandas as pd\n",
    "import numpy as np\n",
    "from sklearn.metrics import confusion_matrix, classification_report\n",
    "from tqdm import trange\n",
    "from together import Together\n",
    "\n",
    "# Set up the API key for Together AI\n",
    "api_key=\"api_key_here\" \n",
    "client = Together(api_key=api_key)  \n",
    "# This model's maximum context length is 131072(128K) tokens. requested 134193 tokens 34193 in the messages, 100000 in the completion\n",
    "def generate_response(system, prompt):\n",
    "    completion = client.chat.completions.create(\n",
    "        model=\"meta-llama/Meta-Llama-3.1-70B-Instruct-Turbo\",\n",
    "        messages=[{\"role\":\"system\",\"content\":system},\n",
    "                  {\"role\":\"user\",\"content\":prompt}],\n",
    "        max_tokens=131072-34193, #1024\n",
    "        temperature=0.75,\n",
    "        top_p=0.95,\n",
    "        repetition_penalty=1,\n",
    "        stop=[\"<|eot_id|>\",\"<|eom_id|>\"],\n",
    "        stream=False,\n",
    "        seed=42\n",
    "    )\n",
    "    return completion.choices[0].message.content.strip()"
   ]
  },
  {
   "cell_type": "markdown",
   "metadata": {},
   "source": [
    "##### Read and randomly split dataset"
   ]
  },
  {
   "cell_type": "code",
   "execution_count": null,
   "metadata": {},
   "outputs": [],
   "source": [
    "df = pd.read_excel('novel_generate_v4.xlsx', keep_default_na=False)\n",
    "df = df.iloc[:1000].sample(frac=1, random_state=11, ignore_index=True)\n",
    "df_train = df.iloc[:400]\n",
    "df_val = df.iloc[400:600]\n",
    "df_test = df.iloc[600:]"
   ]
  },
  {
   "cell_type": "markdown",
   "metadata": {},
   "source": [
    "##### Retrieve 5/10/20/38 samples in training dataset"
   ]
  },
  {
   "cell_type": "code",
   "execution_count": null,
   "metadata": {},
   "outputs": [
    {
     "name": "stdout",
     "output_type": "stream",
     "text": [
      "label\n",
      "0    38\n",
      "1    38\n",
      "dtype: int64\n"
     ]
    }
   ],
   "source": [
    "df_train_selected = pd.concat([\n",
    "    df_train[df_train.label==1],\n",
    "    df_train[df_train.label==0].sample(38, random_state=11)\n",
    "]).sample(frac=1, random_state=11, ignore_index=True)\n",
    "print(df_train_selected.value_counts('label'))"
   ]
  },
  {
   "cell_type": "markdown",
   "metadata": {},
   "source": [
    "##### Generate reasons for each training samples (common needs as example below)"
   ]
  },
  {
   "cell_type": "code",
   "execution_count": null,
   "metadata": {},
   "outputs": [],
   "source": [
    "system = f'You are a helpful customer review expert'\n",
    "for i in trange(106,1000):\n",
    "    prompt = f'''Given customer review: {df.text[i]}\n",
    "    Summarize the reason within 10 words why the input is a review with common needs rather than review with novel needs.\n",
    "    '''\n",
    "    reasons = generate_response(system, prompt)\n",
    "    print(reasons)\n",
    "    print('='*60)\n",
    "    df.novel_reason[i] = reasons"
   ]
  },
  {
   "cell_type": "markdown",
   "metadata": {},
   "source": [
    "##### Generate and see the prompt including 10 samples"
   ]
  },
  {
   "cell_type": "code",
   "execution_count": null,
   "metadata": {},
   "outputs": [
    {
     "name": "stdout",
     "output_type": "stream",
     "text": [
      "label\n",
      "1    6\n",
      "0    4\n",
      "dtype: int64\n",
      "Given customer review: The keyboard layout of this computer is pretty intuitive, but the lack of backlighting makes it hard to use in dimly lit conditions. A feature I would love to see is smart keyboard lighting that adjusts based on the room's light conditions.\n",
      "And its expected output, 0 for review with common needs and 1 for review with novel needs: 1, because the laptop has smart keyboard lighting that adjusts based on the room's light conditions\n",
      "Customer review: This laptop has pretty much everything I was looking for. It boots up very quickly, processes quickly, and it lightweight. The battery life is pretty great. My only issue is with the touchpad. It can be sensitive and aggravating sometimes, probably because the left and right-click buttons are part of the touchpad. It would be better if the screen is foldable, flexible or even expandable so I can enjoy both the big sceen and small weight at the mean time. \n",
      "Expected output: 1, because the laptop has the screen is foldable, flexible or even expandable\n",
      "Customer review: Very fast! The laptop works great, and everything loads super fast. 10/10 would recommend. An eye-tracking system that allows the customer to scroll and select items on the screen without having to use their hands \n",
      "Expected output: 1, because the laptop has eye-tracking system that allows the customer to scroll and select items on the screen\n",
      "Customer review: I liked \n",
      "Expected output: 0, because the laptop has Incomplete review, lacks specific details or product information.\n",
      "Customer review: Streaming isn’t great but it performs Good overall \n",
      "Expected output: 0, because the laptop has Mentions general performance, no unique or specific requirements.\n",
      "Customer review: The backlit keyboard offers a superior typing experience with its bright and well-lit keys. It features a dual-surface construction that provides a combination of rigid and soft textures, allowing for varied and comfortable typing experiences. \n",
      "Expected output: 1, because the laptop has dual-surface construction\n",
      "Customer review: The display on this computer is stunning, but the touchpad feels a bit outdated. I'd love it if they could integrate gesture recognition technology for a seamless and intuitive navigation experience. \n",
      "Expected output: 1, because the laptop has gesture recognition technology for a seamless and intuitive navigation experience\n",
      "Customer review: The build quality of this computer is truly commendable, with a robust frame that feels like it can withstand a minor earthquake. However, the bland design leaves me yearning for more. If only they could introduce a customizable exterior that allows users to change the color and texture to suit their personal style! \n",
      "Expected output: 1, because the laptop has customizable exterior\n",
      "Customer review: Has worked well and would recommend it to a friend. \n",
      "Expected output: 0, because the laptop has The review lacks specific details and unique requirements mentioned.\n",
      "Customer review: The hinges don't leave me confident in the durability either. \n",
      "Expected output: 0, because the laptop has Concern about product durability is a common customer complaint.\n",
      "Explain the reasons why the input corresponds to the given expected output one by one. The reasons should be placed within tags <reason> and </reason>.\n",
      "\n"
     ]
    }
   ],
   "source": [
    "num_sample = 10\n",
    "df_train = df_train_selected.sample(num_sample, random_state=11, ignore_index=True)\n",
    "print(df_train.value_counts('label'))\n",
    "pair = ''\n",
    "for i in range(1,num_sample):\n",
    "    pair = pair + f'''Customer review: {df_train.text[i]} \n",
    "Expected output: {df_train.label[i]}, because the laptop has {df_train.novel_reason[i]}\n",
    "'''\n",
    "prompt = f'''Given customer review: {df_train.text[0]}\n",
    "And its expected output, 0 for review with common needs and 1 for review with novel needs: {df_train.label[0]}, because the laptop has {df_train.novel_reason[0]}\n",
    "{pair}Explain the reasons why the input corresponds to the given expected output one by one. The reasons should be placed within tags <reason> and </reason>.\n",
    "'''\n",
    "print(prompt)"
   ]
  },
  {
   "cell_type": "markdown",
   "metadata": {},
   "source": [
    "##### Generate reasons of 10 samples"
   ]
  },
  {
   "cell_type": "code",
   "execution_count": null,
   "metadata": {},
   "outputs": [
    {
     "name": "stdout",
     "output_type": "stream",
     "text": [
      "I'll go through each review and explain the reasons why the input corresponds to the given expected output.\n",
      "\n",
      "**1. Review:** To begin with, I received the product yesterday and I have already made the decision to return it. From the moment I turned it on after setting it up, I encountered a black screen twice. I had to continuously reboot the laptop. Additionally, the computer's performance was much slower than my expectations, with noticeable lags. Today was my first day using it, and despite needing a new laptop urgently, I do not wish to keep this one. I was specifically looking for a laptop with built-in document reader, scanner, and photo editor capabilities.\n",
      "**Expected Output:** 1\n",
      "<reason>The review mentions specific features the customer was looking for in a laptop, namely built-in document reader, scanner, and photo editor capabilities, which indicates a novel or unique requirement.</reason>\n",
      "\n",
      "**2. Review:** I am so glad I found this product that I can use. User friendly very convenient I love it \n",
      "**Expected Output:** 0\n",
      "<reason>The review does not mention any specific or unique features that the customer was looking for, just general satisfaction with the product's usability and convenience.</reason>\n",
      "\n",
      "**3. Review:** The keyboard on this computer is a joy to use, with a comfortable layout and satisfying key travel. But the battery life? It's absolutely pitiful. It feels like I'm forever tethered to a power outlet. I hope they can pioneer a battery technology that charges from ambient light, freeing me from the chains of the charger. \n",
      "**Expected Output:** 1\n",
      "<reason>The review mentions a novel idea for battery technology that charges from ambient light, which is not a common feature in laptops.</reason>\n",
      "\n",
      "**4. Review:** I bought my Chrome Laptop, for home use, it is very fast, and the price , fit my budget, the sheet manual, was lacking, with real information, and the power cord was was very thin, when I plugged the power cord into the laptop, it was so flimsy it would not stay in, so the power cord is like a childs plugin for a phone. But the Laptop, its self is very nice. \n",
      "**Expected Output:** 0\n",
      "<reason>The review mentions general pros (speed, price) and cons (manual, power cord) but does not indicate any novel or unique requirements.</reason>\n",
      "\n",
      "**5. Review:** The Wi-Fi will lose internet connection for no reason. \n",
      "**Expected Output:** 0\n",
      "<reason>The review mentions a common issue with Wi-Fi connectivity, which is not a novel or unique requirement.</reason>\n",
      "\n",
      "**6. Review:** I like the laptop very much and planned to buy it for my son’s Christmas gift, but the price just keep on increasing and I start to think if there is other options. I have decided to just build a pc since it is cheaper and have a better performance anyway. I am leaving a comment to remind the buyers to see if the price keep on increasing then just buy the i7 one instead. The i7-9750h (way faster cpu) come with gpu rxt 2060 (bang on the money) and 16 go of ddr4 ram (no upgrade needed.) Only thing is to add another ssd or hhd (2tb recommended.) Hope if this help! \n",
      "**Expected Output:** 0\n",
      "<reason>The review mentions general pros (liking the laptop) and cons (price) but does not indicate any novel or unique requirements, just a suggestion to consider alternative options.</reason>\n",
      "\n",
      "**7. Review:** The keyboard layout of this computer is pretty intuitive, but the lack of backlighting makes it hard to use in dimly lit conditions. A feature I would love to see is smart keyboard lighting that adjusts based on the room's light conditions. \n",
      "**Expected Output:** 1\n",
      "<reason>The review mentions a novel idea for smart keyboard lighting that adjusts based on the room's light conditions, which is not a common feature in laptops.</reason>\n",
      "\n",
      "**8. Review:** I know it’s refurbished but it arrived looking like a beautiful brand new laptop. At first it was slow. I was thinking it’s so pretty, got to get used to it being slow. After all not brand new. But after spending a lot of time updating windows. It came to great speed. Lightweight. Doesn’t have overheating problem. Great screen, contrast, brightness. Love it. \n",
      "**Expected Output:** 0\n",
      "<reason>The review mentions general pros (appearance, speed, weight, screen quality) and cons (initial slowness) but does not indicate any novel or unique requirements.</reason>\n",
      "\n",
      "**9. Review:** Dells are always decent. \n",
      "**Expected Output:** 0\n",
      "<reason>The review is a very general statement about the brand and does not mention any specific features or requirements.</reason>\n",
      "\n",
      "**10. Review:** I bought a new computer and the product I received was deformed and bent. Can't they make a computer out of a diamond-like material that's resistant to everything? With that, not to mention bending, even going into water wouldn't be a problem. I applied for a replacement after it was bent, but the after-sales staff bent it back by hand and sent it back to me. Even if it's bent back, they should get my agreement, right? Is it unreasonable to deal with it without my agreement? This is how it was when I received it, why should consumers pay for it? After-sales service is just kicking the ball around. They told me to find them, then they told me to find others, what the hell? Why do such good advertising? Also, \"180 days replacement without repair\", if you can't do it, don't brag. Just bought it and they won't give me a new one. Also claimed 180 days replacement without repair, are they deceiving your grandpa? Playing word games is interesting? Only system problems will be replaced, the shell won't be replaced. If you can't do it, don't brag. What the hell... My motherboard was broken by their after-sales service, and they won't replace it. It must be a system problem to work. .....**...... \n",
      "**Expected Output:** 1\n",
      "<reason>The review mentions a novel idea for a computer made of diamond-like material that's resistant to everything, including water and bending, which is not a common feature in laptops.</reason>\n"
     ]
    }
   ],
   "source": [
    "system = f'You are a helpful customer review expert'\n",
    "reasons = generate_response(system, prompt)\n",
    "print(reasons)"
   ]
  },
  {
   "cell_type": "markdown",
   "metadata": {},
   "source": [
    "##### Summarize all reasons"
   ]
  },
  {
   "cell_type": "code",
   "execution_count": null,
   "metadata": {},
   "outputs": [
    {
     "name": "stdout",
     "output_type": "stream",
     "text": [
      "<summary>\n",
      "The common reason governing the relationship between the inputs and corresponding outputs is the presence or absence of novel or unique requirements mentioned in the reviews. Outputs are marked as 1 when the review contains a mention of an innovative feature, idea, or functionality that is not commonly found in laptops, such as advanced material usage or smart lighting systems. On the other hand, outputs are marked as 0 when the review only discusses general pros and cons, common issues, or standard features, without indicating any unique or novel requirements. This methodology suggests that the output classification is based on the reviewer's expression of creative or unconventional expectations from the product, as opposed to standard or typical expectations.\n",
      "</summary>\n"
     ]
    }
   ],
   "source": [
    "system = f'You are a helpful customer review expert'\n",
    "prompt = f'''{reasons}\n",
    "Given input and expected output pairs, along with the reason for generated outputs, provide a summarized common reason applicable to all cases within tags <summary> and </summary>.\n",
    "The summary should explain the underlying principles, logic or methodology governing the relationship between the inputs and corresponding outputs. Avoid mentioning any specific details, numbers, or entities from the individual examples, and aim for a generalized explanation.\n",
    "'''\n",
    "res = generate_response(system, prompt)\n",
    "print(res)"
   ]
  },
  {
   "cell_type": "markdown",
   "metadata": {},
   "source": [
    "##### Baselines for 0/5/10 samples without reason summaries"
   ]
  },
  {
   "cell_type": "code",
   "execution_count": null,
   "metadata": {},
   "outputs": [
    {
     "name": "stderr",
     "output_type": "stream",
     "text": [
      "100%|██████████| 142/142 [02:45<00:00,  1.17s/it]\n"
     ]
    }
   ],
   "source": [
    "no_sum_tem075_seed42_tem075 = \"\"\n",
    "\n",
    "zeroshot_tem075_seed42_tem075 = \"Return an output of 0 for reviews with common needs or an output of 1 for reviews with novel needs, nothing else\"\n",
    "\n",
    "fiveshot_seed11_tem075_seed42_tem075 = \"\"\"\n",
    "Customer review: The keyboard layout of this computer is pretty intuitive, but the lack of backlighting makes it hard to use in dimly lit conditions. A feature I would love to see is smart keyboard lighting that adjusts based on the room's light conditions.\n",
    "Expected output: 1\n",
    "Customer review: This laptop has pretty much everything I was looking for. It boots up very quickly, processes quickly, and it lightweight. The battery life is pretty great. My only issue is with the touchpad. It can be sensitive and aggravating sometimes, probably because the left and right-click buttons are part of the touchpad. It would be better if the screen is foldable, flexible or even expandable so I can enjoy both the big sceen and small weight at the mean time. \n",
    "Expected output: 1\n",
    "Customer review: Very fast! The laptop works great, and everything loads super fast. 10/10 would recommend. An eye-tracking system that allows the customer to scroll and select items on the screen without having to use their hands \n",
    "Expected output: 1\n",
    "Customer review: I liked \n",
    "Expected output: 0\n",
    "Customer review: Streaming isn't great but it performs Good overall \n",
    "Expected output: 0\n",
    "Return an output of 0 for reviews with common needs or an output of 1 for reviews with novel needs, nothing else\n",
    "\"\"\"\n",
    "\n",
    "tenshot_seed11_tem075_seed42_tem075 = \"\"\"\n",
    "Customer review: The keyboard layout of this computer is pretty intuitive, but the lack of backlighting makes it hard to use in dimly lit conditions. A feature I would love to see is smart keyboard lighting that adjusts based on the room's light conditions.\n",
    "Expected output: 1\n",
    "Customer review: This laptop has pretty much everything I was looking for. It boots up very quickly, processes quickly, and it lightweight. The battery life is pretty great. My only issue is with the touchpad. It can be sensitive and aggravating sometimes, probably because the left and right-click buttons are part of the touchpad. It would be better if the screen is foldable, flexible or even expandable so I can enjoy both the big sceen and small weight at the mean time. \n",
    "Expected output: 1\n",
    "Customer review: Very fast! The laptop works great, and everything loads super fast. 10/10 would recommend. An eye-tracking system that allows the customer to scroll and select items on the screen without having to use their hands \n",
    "Expected output: 1, because the laptop has eye-tracking system that allows the customer to scroll and select items on the screen\n",
    "Customer review: I liked \n",
    "Expected output: 0\n",
    "Customer review: Streaming isn't great but it performs Good overall \n",
    "Expected output: 0\n",
    "Customer review: The backlit keyboard offers a superior typing experience with its bright and well-lit keys. It features a dual-surface construction that provides a combination of rigid and soft textures, allowing for varied and comfortable typing experiences. \n",
    "Expected output: 1\n",
    "Customer review: The display on this computer is stunning, but the touchpad feels a bit outdated. I'd love it if they could integrate gesture recognition technology for a seamless and intuitive navigation experience. \n",
    "Expected output: 1\n",
    "Customer review: The build quality of this computer is truly commendable, with a robust frame that feels like it can withstand a minor earthquake. However, the bland design leaves me yearning for more. If only they could introduce a customizable exterior that allows users to change the color and texture to suit their personal style! \n",
    "Expected output: 1\n",
    "Customer review: Has worked well and would recommend it to a friend. \n",
    "Expected output: 0\n",
    "Customer review: The hinges don't leave me confident in the durability either. \n",
    "Expected output: 0\n",
    "Return an output of 0 for reviews with common needs or an output of 1 for reviews with novel needs, nothing else\n",
    "\"\"\"\n",
    "\n",
    "system = tenshot_seed11_tem075_seed42_tem075\n",
    "output = []\n",
    "for i in trange(600,1000):\n",
    "    prompt = f'''\n",
    "    {df_test.text[i]}\n",
    "    '''\n",
    "    res = generate_response(system, prompt)\n",
    "    print(\"Correct label:\", df_test.label[i])\n",
    "    print(res)\n",
    "    print('='*60)\n",
    "    output.append(int(res) if len(res)==1 else 0)\n",
    "pd.DataFrame(output).to_excel('df_test_10shot_seed11_tem075_seed42_tem075.xlsx', index=False)\n",
    "print(classification_report(df_test.label[:], output, target_names = ['Common','Unique'], digits=4))\n",
    "print(confusion_matrix(df_test.label[:], output))"
   ]
  },
  {
   "cell_type": "markdown",
   "metadata": {},
   "source": [
    "##### Summaries of different settings"
   ]
  },
  {
   "cell_type": "code",
   "execution_count": null,
   "metadata": {},
   "outputs": [],
   "source": [
    "reason_sum_without_common_reason_tem075_seed42_tem075_train5_seed11 = \"The common reason governing the relationship between the inputs and corresponding outputs is the presence or absence of novel or innovative feature suggestions in the reviews. Outputs of 1 are generated when reviewers mention unique, futuristic, or uncommon features they would like to see, indicating a desire for innovative solutions to problems they encountered. In contrast, outputs of 0 are generated when reviewers do not suggest any novel features or improvements, instead focusing on common expectations or issues without providing creative solutions. The underlying principle is to identify reviewers who demonstrate a need for cutting-edge technology or innovative design, as opposed to those who simply report on standard features or common issues.\"\n",
    "\n",
    "reason_sum_without_common_reason_tem075_seed42_tem075_train10_seed11 = \"The common reason governing the relationship between the inputs and corresponding outputs is the presence or absence of novel feature suggestions. The expected output is 1 when the review mentions a unique or innovative feature that is not typically found in the product, indicating a novel need or suggestion. On the other hand, the expected output is 0 when the review only mentions common issues, concerns, or needs that are already well-established, without proposing any new or unique solutions. The underlying principle is to identify whether the review contains a creative or unusual suggestion that goes beyond the typical features or requirements of the product.\"\n",
    "\n",
    "reason_sum_without_common_reason_tem075_seed42_tem075_train20_seed11 = \"The common reason governing the relationship between the inputs and corresponding outputs is the presence or absence of novel feature suggestions or needs in the customer reviews. The output is 1 when the review expresses a desire for an innovative solution, a feature that is not commonly found in laptops, or a suggestion that goes beyond the standard features of a laptop. On the other hand, the output is 0 when the review only mentions common issues, praises existing features, or evaluates the laptop based on its standard features without suggesting any novel solutions. This indicates that the reviewer has common needs and is not looking for anything beyond what is typically expected from a laptop. The underlying principle is to identify whether the reviewer is simply evaluating the laptop based on its existing features or if they are looking for something new and innovative. This distinction is crucial in determining whether the reviewer has common or novel needs.\"\n",
    "\n",
    "reason_sum_without_common_reason_tem075_seed42_tem075_train5_seed22 = \"The underlying principle governing the relationship between the inputs and corresponding outputs is the distinction between common and novel needs. Reviews that express satisfaction or dissatisfaction with typical aspects of a product, such as its performance, usability, price, and reliability, are classified as corresponding to common needs. On the other hand, reviews that express desires for innovative, futuristic, or unconventional features, or that highlight specific requirements that go beyond typical expectations, are classified as corresponding to novel needs. This distinction is based on the idea that customers have certain baseline expectations for a product, and that reviews that fall within these expectations are considered common, while reviews that exceed or deviate from these expectations are considered novel.\"\n",
    "\n",
    "reason_sum_without_common_reason_tem075_seed42_tem075_train10_seed22 = \"The common reason governing the relationship between the inputs and corresponding outputs is the presence or absence of novel or unique requirements mentioned in the reviews. Outputs are marked as 1 when the review contains a mention of an innovative feature, idea, or functionality that is not commonly found in laptops, such as advanced material usage or smart lighting systems. On the other hand, outputs are marked as 0 when the review only discusses general pros and cons, common issues, or standard features, without indicating any unique or novel requirements. This methodology suggests that the output classification is based on the reviewer's expression of creative or unconventional expectations from the product, as opposed to standard or typical expectations.\"\n",
    "\n",
    "reason_sum_without_common_reason_tem075_seed42_tem075_train20_seed22 = \"The common reason governing the relationship between the inputs and corresponding outputs is the presence or absence of novel or unique features mentioned in the customer reviews. The output is 1 when the review expresses a desire for or mentions a feature that is not commonly found in laptops, such as advanced materials, AI-powered settings, or innovative design elements. On the other hand, the output is 0 when the review discusses general satisfaction, common issues, or typical features found in laptops, such as processor speed, memory, and display quality. The underlying principle is that the model is looking for reviews that indicate the customer is thinking outside the box and envisioning new or improved features that go beyond the standard specifications of a laptop.\"\n",
    "\n",
    "reason_sum_without_common_reason_tem075_seed42_tem075_train5_seed44 = \"The common reason governing the relationship between the inputs and corresponding outputs is the presence or absence of novel or innovative ideas in the reviews. The outputs are determined by whether the reviewer is simply stating common issues, expectations, or features (resulting in a 0 output) or if they are suggesting new, creative, or outside-the-box ideas for improvement (resulting in a 1 output). The underlying principle is to identify the level of inventiveness or originality in the reviewer's comments, with a higher output indicating a more imaginative or pioneering suggestion.\"\n",
    "\n",
    "reason_sum_without_common_reason_tem075_seed42_tem075_train10_seed44 = \"\"\"The common reason governing the relationship between the inputs and corresponding outputs is the presence or absence of a novel feature suggestion. The output is 1 when the customer review expresses a desire for a new, innovative, or non-standard feature that is not typically found in most laptops. This feature suggestion is often introduced by phrases such as \"how about,\" \"I imagine,\" or \"a computer with,\" which indicate that the customer is proposing an idea that goes beyond the current capabilities of the laptop. On the other hand, the output is 0 when the customer review only states their satisfaction or dissatisfaction with the laptop's existing features, without suggesting any new or innovative ideas. The underlying principle is to identify whether the customer is simply evaluating the product as it is or proposing a new direction for future development.\"\"\"\n",
    "\n",
    "reason_sum_without_common_reason_tem075_seed42_tem075_train20_seed44 = \"The common reason governing the relationship between the inputs and corresponding outputs is the presence or absence of novel feature suggestions in the customer reviews. The outputs are determined by whether the customer review expresses a desire for a new or innovative feature that is not a standard feature in most laptops. If a customer review mentions a specific feature that is not commonly found in laptops, the output is 1, indicating that the review contains a novel feature suggestion. On the other hand, if the review only reports problems with existing features, expresses satisfaction with existing features, or suggests alternative products without mentioning new features, the output is 0, indicating that the review does not contain a novel feature suggestion. The underlying logic is to identify whether the customer is simply providing feedback on the product's current state or if they are proposing new ideas for improvement. This distinction is crucial in determining the output, as it helps to categorize the reviews based on their content and the customer's intentions.\""
   ]
  },
  {
   "cell_type": "code",
   "execution_count": null,
   "metadata": {},
   "outputs": [],
   "source": [
    "reason_sum_tem075_seed42_tem0 = \"The common reason governing the relationship between the inputs and corresponding outputs is the presence or absence of novel needs or features expressed by the customer in their review. The output is 1 when the customer mentions a specific, unique, or innovative feature that is not commonly found in laptops, indicating a novel need. On the other hand, the output is 0 when the customer expresses common sentiments, concerns, or preferences that are typical in laptop reviews, without mentioning any specific novel needs or features. The underlying principle is to identify whether the customer's review contains a distinctive or original idea that goes beyond the usual expectations or features of a laptop.\"\n",
    "\n",
    "reason_sum_tem075_seed42_tem025 = \"The common reason governing the relationship between the inputs and corresponding outputs is the presence or absence of novel needs or features expressed by the customer in their review. The output is 1 when the customer mentions a specific, uncommon, or innovative feature that is not typically found in laptops, indicating a novel need. On the other hand, the output is 0 when the customer expresses common sentiments, concerns, or preferences that are typical of laptop users, without mentioning any specific novel needs or features. The underlying principle is to identify whether the customer's review contains a unique or creative suggestion for a feature that goes beyond the standard expectations of a laptop.\"\n",
    "\n",
    "reason_sum_tem075_seed42_tem05 = \"\"\"The common reason governing the relationship between the inputs and corresponding outputs is the presence or absence of novel feature requests or needs expressed by the customers in their reviews. The output is 1 when a customer mentions a specific, uncommon, or innovative feature that is not typically found in laptops, indicating a novel need. On the other hand, the output is 0 when a customer expresses common sentiments, satisfaction, or dissatisfaction with existing features, or mentions common issues or concerns without suggesting new or unique features. This distinction is based on the idea that novel needs or feature requests are those that go beyond the standard or typical features and functionalities of laptops, and are often characterized by words or phrases such as \"I wish,\" \"I would love to see,\" or \"it would be great if.\" The underlying principle is to identify and distinguish between routine or expected feedback and feedback that suggests new or innovative ideas for laptop design or functionality.\"\"\"\n",
    "\n",
    "reason_sum_tem075_seed42_tem1 = \"\"\"The common reason governing the relationship between the inputs and corresponding outputs is the presence or absence of novel feature suggestions or needs expressed by the customers in their reviews. The output is 1 when a customer mentions a specific novel feature or need that is not commonly found in laptops, indicating a unique or innovative idea. On the other hand, the output is 0 when a customer expresses common sentiments, concerns, or satisfaction with existing features, but does not mention any novel needs or features. The underlying principle is that the model is trained to identify and differentiate between common and novel ideas, with a focus on recognizing creative or innovative suggestions that can potentially enhance or improve the product. The logic governing the outputs is based on the model's ability to analyze the customer's feedback, identify patterns and keywords, and determine whether the customer is expressing a unique or common idea. The methodology employed in generating the outputs involves a combination of natural language processing (NLP) and machine learning algorithms, which enable the model to understand the context and content of the customer's review, and make informed decisions about the presence or absence of novel feature suggestions.\"\"\"\n",
    "\n",
    "reason_sum_tem0_seed42_tem075 = \"The common reason governing the relationship between the inputs and corresponding outputs is the presence or absence of novel feature suggestions in the customer reviews. The outputs are generated based on whether the customer review contains a suggestion for a new or innovative feature that is not commonly found in laptops. If a review suggests a unique feature, the output is 1, indicating the presence of a novel idea. On the other hand, if the review only mentions common issues, general opinions, or does not provide any specific feature suggestions, the output is 0, indicating the absence of a novel idea. This underlying principle is based on the idea that novel feature suggestions can provide valuable insights for product development and improvement, and can be used to identify potential areas for innovation.\"\n",
    "\n",
    "reason_sum_tem025_seed42_tem075 = \"The common reason governing the relationship between the inputs and corresponding outputs is the presence or absence of novel needs or features expressed by the customer. Outputs labeled as 1 indicate that the customer has mentioned a unique or innovative feature that is not commonly found in laptops, such as advanced keyboard functionalities, immersive gaming capabilities, or personalized customization options. On the other hand, outputs labeled as 0 signify that the customer's review is focused on common sentiments, complaints, or preferences that do not introduce new or unusual feature requests. The underlying logic is to identify whether the customer's feedback contains creative or unconventional ideas that could potentially inspire new product developments or improvements.\"\n",
    "\n",
    "reason_sum_tem05_seed42_tem075 = \"The common reason governing the relationship between the inputs and corresponding outputs is the presence or absence of novel feature requests or needs expressed by the customers in their reviews. The output is 1 when a customer mentions a specific, uncommon, or innovative feature that is not typically found in laptops, such as advanced display technologies, unique keyboard designs, or futuristic capabilities. On the other hand, the output is 0 when a customer expresses common sentiments, concerns, or use cases that are typical for laptops, without mentioning any specific novel needs or features. The underlying principle is to identify and distinguish between ordinary, everyday customer feedback and extraordinary, forward-thinking suggestions that could potentially drive innovation in laptop design and functionality.\"\n",
    "\n",
    "reason_sum_tem1_seed42_tem075 = \"The common reason governing the relationship between the inputs and corresponding outputs is the presence or absence of novel needs or feature requests in the customer reviews. The output is 1 when the review expresses a unique, innovative, or uncommon requirement that is not typically found in laptops, such as advanced technologies, customizable features, or specialized capabilities. On the other hand, the output is 0 when the review only mentions general expectations, common features, technical issues, or warranty concerns, without expressing any novel needs. This suggests that the underlying logic is based on identifying reviews that showcase creative, forward-thinking, or specialized demands that go beyond standard laptop functionalities.\""
   ]
  },
  {
   "cell_type": "code",
   "execution_count": null,
   "metadata": {},
   "outputs": [],
   "source": [
    "reason_sum_with_common_reason_tem0_seed42_tem0='The underlying principle governing the relationship between the inputs and corresponding outputs is the presence or absence of novel needs or features mentioned by the reviewer. If the reviewer mentions a specific feature or need that goes beyond the common features of a laptop, the output is 1. If the reviewer mentions common issues, basic product features, or lacks specific details, the output is 0. This suggests that the model is designed to identify and distinguish between common and novel needs or features mentioned in customer reviews.'\n",
    "\n",
    "reason_sum_without_common_reason_tem0_seed421_tem0=\"The common reason for the generated outputs is that the model is identifying whether a customer review suggests a novel or innovative feature that is not commonly found in laptops. The model is trained to recognize language patterns that indicate a customer is proposing a new idea or solution that goes beyond the standard features and functionalities of a laptop. The output is 1 when the review suggests a novel feature, and 0 when the review only mentions common issues, general opinions, or standard features. The underlying principle is to detect the customer's intent to innovate or improve the product, rather than simply providing feedback on its current state.\"\n",
    "\n",
    "reason_sum_without_common_reason_tem0_seed42_tem0 =\"The common reason for the generated outputs is that the model is identifying whether a customer review suggests a novel or innovative feature that is not commonly found in laptops. The model is trained to recognize language patterns that indicate a customer is proposing a new idea or solution that goes beyond the standard features and functionalities of a laptop. The output is 1 when the review suggests a novel feature, and 0 when the review only mentions common issues, general opinions, or standard features. The underlying principle is to detect the customer's intent to innovate or improve the product, rather than simply providing feedback on its current state.\"\n",
    "\n",
    "reason_sum_without_common_reason_tem1_seed42_tem1=\"The common reason governing the relationship between the inputs and corresponding outputs is the presence or absence of novel needs or feature requests in the customer reviews. The output is 1 when the review expresses a unique, innovative, or uncommon need or feature that is not typically found in laptops, indicating a novel requirement. In contrast, the output is 0 when the review only mentions common expectations, issues, or features that are already present in laptops, without expressing any new or unusual needs. The underlying principle is to identify whether the customer is simply discussing existing features, common problems, or general statements, or if they are proposing a new idea, improvement, or innovation that goes beyond the current state of laptops. This distinction allows for the detection of novel needs, which can provide valuable insights for product development, improvement, and innovation.\"\n",
    "\n",
    "reason_sum_without_common_reason_tem075_seed42_tem075 = \"The common reason governing the relationship between the inputs and corresponding outputs is the presence or absence of novel feature requests or needs expressed by the customers in their reviews. The output is 1 when a customer mentions a specific, uncommon, or innovative feature that is not typically found in laptops, such as advanced display technologies, intelligent assistants, or modular design elements. On the other hand, the output is 0 when a customer expresses common sentiments, concerns, or experiences related to laptop performance, design, or functionality that do not involve novel or unusual feature requests. The underlying principle is to identify and distinguish between ordinary customer feedback and extraordinary suggestions that could potentially lead to new product developments or innovations.\"\n",
    "\n",
    "reason_sum_without_common_reason_tem05_seed42_tem05=\"\"\"The common reason governing the relationship between the inputs and corresponding outputs is the presence or absence of novel or specific needs expressed by the customer. Outputs labeled as \"1\" indicate that the customer has expressed a unique or innovative feature request that is not commonly found in laptops, such as advanced display technologies, intelligent assistants, or modular designs. On the other hand, outputs labeled as \"0\" indicate that the customer has expressed common sentiments, concerns, or preferences that are typical of laptop users, such as satisfaction with performance, issues with durability, or expectations for battery life. The underlying principle is to identify whether the customer's feedback contains a novel or specific need that goes beyond the usual expectations and common features of laptops.\"\"\"\n",
    "\n",
    "reason_sum_without_common_reason_tem025_seed42_tem025 = \"The common reason governing the relationship between the inputs and corresponding outputs is the presence or absence of novel needs or features expressed by the customer in their review. The output is 1 when the customer mentions a unique or innovative feature that is not commonly found in laptops, indicating a novel need. On the other hand, the output is 0 when the customer expresses common sentiments, complaints, or preferences that do not mention any new or unusual features. This suggests that the underlying logic is based on identifying and distinguishing between ordinary and extraordinary customer needs, with the former being typical and expected, and the latter being unusual and innovative.\""
   ]
  },
  {
   "cell_type": "markdown",
   "metadata": {},
   "source": [
    "##### Hard Voting in different temperature settings"
   ]
  },
  {
   "cell_type": "code",
   "execution_count": null,
   "metadata": {},
   "outputs": [
    {
     "name": "stdout",
     "output_type": "stream",
     "text": [
      "hard vote\n",
      "              precision    recall  f1-score   support\n",
      "\n",
      "      Common     0.9693    0.9914    0.9802       350\n",
      "      Unique     0.9286    0.7800    0.8478        50\n",
      "\n",
      "    accuracy                         0.9650       400\n",
      "   macro avg     0.9489    0.8857    0.9140       400\n",
      "weighted avg     0.9642    0.9650    0.9637       400\n",
      "\n",
      "[[347   3]\n",
      " [ 11  39]]\n"
     ]
    },
    {
     "data": {
      "text/html": [
       "<div>\n",
       "<style scoped>\n",
       "    .dataframe tbody tr th:only-of-type {\n",
       "        vertical-align: middle;\n",
       "    }\n",
       "\n",
       "    .dataframe tbody tr th {\n",
       "        vertical-align: top;\n",
       "    }\n",
       "\n",
       "    .dataframe thead th {\n",
       "        text-align: right;\n",
       "    }\n",
       "</style>\n",
       "<table border=\"1\" class=\"dataframe\">\n",
       "  <thead>\n",
       "    <tr style=\"text-align: right;\">\n",
       "      <th></th>\n",
       "      <th>0</th>\n",
       "      <th>0.25</th>\n",
       "      <th>0.5</th>\n",
       "      <th>0.75</th>\n",
       "      <th>1</th>\n",
       "      <th>label</th>\n",
       "      <th>hard_vote</th>\n",
       "    </tr>\n",
       "  </thead>\n",
       "  <tbody>\n",
       "    <tr>\n",
       "      <th>0</th>\n",
       "      <td>0</td>\n",
       "      <td>0</td>\n",
       "      <td>0</td>\n",
       "      <td>0</td>\n",
       "      <td>0</td>\n",
       "      <td>0</td>\n",
       "      <td>0</td>\n",
       "    </tr>\n",
       "    <tr>\n",
       "      <th>1</th>\n",
       "      <td>0</td>\n",
       "      <td>0</td>\n",
       "      <td>0</td>\n",
       "      <td>0</td>\n",
       "      <td>0</td>\n",
       "      <td>0</td>\n",
       "      <td>0</td>\n",
       "    </tr>\n",
       "    <tr>\n",
       "      <th>2</th>\n",
       "      <td>0</td>\n",
       "      <td>0</td>\n",
       "      <td>0</td>\n",
       "      <td>0</td>\n",
       "      <td>0</td>\n",
       "      <td>0</td>\n",
       "      <td>0</td>\n",
       "    </tr>\n",
       "    <tr>\n",
       "      <th>3</th>\n",
       "      <td>0</td>\n",
       "      <td>0</td>\n",
       "      <td>0</td>\n",
       "      <td>0</td>\n",
       "      <td>0</td>\n",
       "      <td>0</td>\n",
       "      <td>0</td>\n",
       "    </tr>\n",
       "    <tr>\n",
       "      <th>4</th>\n",
       "      <td>0</td>\n",
       "      <td>0</td>\n",
       "      <td>0</td>\n",
       "      <td>0</td>\n",
       "      <td>0</td>\n",
       "      <td>0</td>\n",
       "      <td>0</td>\n",
       "    </tr>\n",
       "    <tr>\n",
       "      <th>...</th>\n",
       "      <td>...</td>\n",
       "      <td>...</td>\n",
       "      <td>...</td>\n",
       "      <td>...</td>\n",
       "      <td>...</td>\n",
       "      <td>...</td>\n",
       "      <td>...</td>\n",
       "    </tr>\n",
       "    <tr>\n",
       "      <th>395</th>\n",
       "      <td>0</td>\n",
       "      <td>0</td>\n",
       "      <td>0</td>\n",
       "      <td>0</td>\n",
       "      <td>0</td>\n",
       "      <td>0</td>\n",
       "      <td>0</td>\n",
       "    </tr>\n",
       "    <tr>\n",
       "      <th>396</th>\n",
       "      <td>1</td>\n",
       "      <td>1</td>\n",
       "      <td>1</td>\n",
       "      <td>1</td>\n",
       "      <td>1</td>\n",
       "      <td>1</td>\n",
       "      <td>1</td>\n",
       "    </tr>\n",
       "    <tr>\n",
       "      <th>397</th>\n",
       "      <td>1</td>\n",
       "      <td>1</td>\n",
       "      <td>1</td>\n",
       "      <td>1</td>\n",
       "      <td>1</td>\n",
       "      <td>1</td>\n",
       "      <td>1</td>\n",
       "    </tr>\n",
       "    <tr>\n",
       "      <th>398</th>\n",
       "      <td>0</td>\n",
       "      <td>0</td>\n",
       "      <td>0</td>\n",
       "      <td>0</td>\n",
       "      <td>0</td>\n",
       "      <td>0</td>\n",
       "      <td>0</td>\n",
       "    </tr>\n",
       "    <tr>\n",
       "      <th>399</th>\n",
       "      <td>0</td>\n",
       "      <td>0</td>\n",
       "      <td>0</td>\n",
       "      <td>0</td>\n",
       "      <td>0</td>\n",
       "      <td>0</td>\n",
       "      <td>0</td>\n",
       "    </tr>\n",
       "  </tbody>\n",
       "</table>\n",
       "<p>400 rows × 7 columns</p>\n",
       "</div>"
      ],
      "text/plain": [
       "     0  0.25  0.5  0.75  1  label  hard_vote\n",
       "0    0     0    0     0  0      0          0\n",
       "1    0     0    0     0  0      0          0\n",
       "2    0     0    0     0  0      0          0\n",
       "3    0     0    0     0  0      0          0\n",
       "4    0     0    0     0  0      0          0\n",
       "..  ..   ...  ...   ... ..    ...        ...\n",
       "395  0     0    0     0  0      0          0\n",
       "396  1     1    1     1  1      1          1\n",
       "397  1     1    1     1  1      1          1\n",
       "398  0     0    0     0  0      0          0\n",
       "399  0     0    0     0  0      0          0\n",
       "\n",
       "[400 rows x 7 columns]"
      ]
     },
     "metadata": {},
     "output_type": "display_data"
    }
   ],
   "source": [
    "excel_list = ['df_test_38_without_common_reason_seed42_tem0.xlsx',\n",
    "            'df_test_38_without_common_reason_seed42_tem025.xlsx',\n",
    "            'df_test_38_without_common_reason_seed42_tem05.xlsx',\n",
    "            'df_test_38_without_common_reason_seed42_tem075.xlsx',\n",
    "            'df_test_38_without_common_reason_seed42_tem1.xlsx']\n",
    "df_vote = pd.DataFrame()\n",
    "for excel in excel_list:\n",
    "    df_vote = pd.concat([df_vote,pd.read_excel(excel)],axis=1)\n",
    "df_vote=pd.concat([df_vote,pd.DataFrame(df_test.label.values)],axis=1)\n",
    "df_vote.columns=[\"0\",\"0.25\",\"0.5\",\"0.75\",\"1\",\"label\"]\n",
    "df_vote[\"hard_vote\"] = [-1]*len(df_vote)\n",
    "for i in range(len(df_vote)):\n",
    "\tdf_vote.iloc[i,-1] = 1 if np.sum(df_vote.iloc[i,:len(excel_list)])>4 else 0\n",
    "print('hard vote')\n",
    "print(classification_report(df_vote.label, df_vote.hard_vote, target_names = ['Common','Unique'], digits=4))\n",
    "print(confusion_matrix(df_vote.label, df_vote.hard_vote))\n",
    "df_vote"
   ]
  }
 ],
 "metadata": {
  "kernelspec": {
   "display_name": "edgar-crawler-venv",
   "language": "python",
   "name": "python3"
  },
  "language_info": {
   "codemirror_mode": {
    "name": "ipython",
    "version": 3
   },
   "file_extension": ".py",
   "mimetype": "text/x-python",
   "name": "python",
   "nbconvert_exporter": "python",
   "pygments_lexer": "ipython3",
   "version": "3.8.20"
  },
  "orig_nbformat": 4
 },
 "nbformat": 4,
 "nbformat_minor": 2
}
